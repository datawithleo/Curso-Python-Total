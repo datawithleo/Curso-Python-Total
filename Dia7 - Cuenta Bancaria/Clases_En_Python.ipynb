{
 "cells": [
  {
   "cell_type": "code",
   "execution_count": 2,
   "metadata": {},
   "outputs": [],
   "source": [
    "class Pajaro:\n",
    "    # METODOS DE INSTANCIA\n",
    "    alas = True\n",
    "    def __init__(self, color, especie):\n",
    "        self.color = color\n",
    "        self.especie = especie\n",
    "    \n",
    "    def piar(self):\n",
    "        print('pio, mi color es {}'.format(self.color))\n",
    "        \n",
    "    def volar(self, metros):\n",
    "        print(f'El pajaro ha volado {metros} metros')\n",
    "        self.piar()\n",
    "    \n",
    "    def pintar_negro(self):\n",
    "        self.color = 'negro'\n",
    "        print(f'Ahora el pajaro es {self.color}')\n",
    "        \n",
    "    # METODOS DE CLASE\n",
    "    @classmethod # No necesita self, pero necesita cls\n",
    "    def poner_huevos(cls, cantidad):\n",
    "        print(f'Puso {cantidad} huevos')\n",
    "        cls.alas = False # Modifica atributos de clases, no de instancia\n",
    "        print(Pajaro.alas)\n",
    "        \n",
    "    # METODOS ESTATICOS\n",
    "    @staticmethod # No necesita self ni cls\n",
    "    def mirar():\n",
    "        print('El pajaro mira')"
   ]
  },
  {
   "cell_type": "code",
   "execution_count": 3,
   "metadata": {},
   "outputs": [],
   "source": [
    "# Crea un método estático respirar() para la clase Mascota. Cuando se llame, debe imprimir en pantalla \"Inhalar... Exhalar\"\n",
    "class Mascota:\n",
    "    @staticmethod\n",
    "    def respirar():\n",
    "        print('Inhalar... Exhalar')"
   ]
  },
  {
   "cell_type": "code",
   "execution_count": 5,
   "metadata": {},
   "outputs": [],
   "source": [
    "# Crea un método de clase revivir() que actúa sobre el atributo de clase vivo de la clase Jugador, estableciéndolo en True cada vez que es invocado. El valor predeterminado del atributo vivo, debe ser False.\n",
    "class Jugador:\n",
    "    vivo = False\n",
    "    @classmethod\n",
    "    def revivir(cls):\n",
    "        cls.vivo = True"
   ]
  },
  {
   "cell_type": "code",
   "execution_count": null,
   "metadata": {},
   "outputs": [],
   "source": [
    "# Crea un método de instancia lanzar_flecha() que reste en -1 la cantidad de flechas que tiene una instancia de Personaje, que cuenta con un atributo de instancia de tipo número, llamado cantidad_flechas.\n",
    "class Personaje:\n",
    "    def __init__(self, cantidad_flechas):\n",
    "        self.cantidad_flechas = cantidad_flechas\n",
    "        \n",
    "    def lanzar_flecha(self):\n",
    "        self.cantidad_flechas -= 1"
   ]
  }
 ],
 "metadata": {
  "kernelspec": {
   "display_name": "Python 3",
   "language": "python",
   "name": "python3"
  },
  "language_info": {
   "codemirror_mode": {
    "name": "ipython",
    "version": 3
   },
   "file_extension": ".py",
   "mimetype": "text/x-python",
   "name": "python",
   "nbconvert_exporter": "python",
   "pygments_lexer": "ipython3",
   "version": "3.10.9"
  },
  "orig_nbformat": 4,
  "vscode": {
   "interpreter": {
    "hash": "6eae86e4343510915c9fa3d29886f8c45b196ed8e650df451e40e3b712cdf1c0"
   }
  }
 },
 "nbformat": 4,
 "nbformat_minor": 2
}
