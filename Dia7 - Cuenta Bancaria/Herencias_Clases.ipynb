{
 "cells": [
  {
   "cell_type": "code",
   "execution_count": 26,
   "metadata": {},
   "outputs": [],
   "source": [
    "class Animal:\n",
    "    def __init__(self, edad, color):\n",
    "        self.edad =  edad\n",
    "        self.color = color\n",
    "    def nacer(self):\n",
    "        print('Este animal ha nacido')\n",
    "    def hablar(self):\n",
    "        print('Este animal emite un sonido')"
   ]
  },
  {
   "cell_type": "code",
   "execution_count": 38,
   "metadata": {},
   "outputs": [],
   "source": [
    "class Pajaro(Animal):\n",
    "    def __init__(self, edad, color, altura_vuelo): # Constructor de la clase hija\n",
    "        # self.edad = edad\n",
    "        # self.color = color\n",
    "        super().__init__(edad, color) # Llamar al constructor de la clase padre\n",
    "        self.altura_vuelo = altura_vuelo\n",
    "    def hablar(self): # Sobreescribir el método de la clase padre\n",
    "        print('pio')\n",
    "    def volar(self, metros): # Método propio de la clase\n",
    "        print(f'El pajaro vuela {metros} metros')"
   ]
  },
  {
   "cell_type": "code",
   "execution_count": 35,
   "metadata": {},
   "outputs": [
    {
     "name": "stdout",
     "output_type": "stream",
     "text": [
      "El pajaro vuela 100 metros\n"
     ]
    }
   ],
   "source": [
    "piolin = Pajaro(2, 'amarillo', 60)\n",
    "piolin.volar(100)"
   ]
  },
  {
   "attachments": {},
   "cell_type": "markdown",
   "metadata": {},
   "source": [
    "**Otro ejemplo**"
   ]
  },
  {
   "cell_type": "code",
   "execution_count": 55,
   "metadata": {},
   "outputs": [],
   "source": [
    "class Padre:\n",
    "    def hablar(self):\n",
    "        print('Hola')\n",
    "\n",
    "class Madre:\n",
    "    def reir(self):\n",
    "        print('ja ja')\n",
    "    def hablar(self):\n",
    "        print('que tal')\n",
    "\n",
    "class Hijo(Padre, Madre): # Herencia múltiple\n",
    "    pass\n",
    "\n",
    "class Nieto(Hijo):\n",
    "    pass"
   ]
  },
  {
   "cell_type": "code",
   "execution_count": 56,
   "metadata": {},
   "outputs": [
    {
     "name": "stdout",
     "output_type": "stream",
     "text": [
      "(<class '__main__.Nieto'>, <class '__main__.Hijo'>, <class '__main__.Padre'>, <class '__main__.Madre'>, <class 'object'>)\n"
     ]
    }
   ],
   "source": [
    "print(Nieto.__mro__) # MRO: Method Resolution Order"
   ]
  },
  {
   "attachments": {},
   "cell_type": "markdown",
   "metadata": {},
   "source": [
    "Si la clase Hija ha heredado de su padre la forma de reir, y de su madre la vocación, y hoy tienen el mismo trabajo en la Fiscalía, crea la herencia múltiple que le permita a esta clase heredar correctamente de Padre y Madre.\n",
    "\n",
    "Completa el código suministrado a continuación para lograrlo."
   ]
  },
  {
   "cell_type": "code",
   "execution_count": null,
   "metadata": {},
   "outputs": [],
   "source": [
    "class Padre():\n",
    "    def trabajar(self):\n",
    "        print(\"Trabajando en el Hospital\")\n",
    "\n",
    "    def reir(self):\n",
    "        print(\"Ja ja ja!\")\n",
    "\n",
    "class Madre():\n",
    "    def trabajar(self):\n",
    "        print(\"Trabajando en la Fiscalía\")\n",
    "        \n",
    "class Hija(Padre, Madre):\n",
    "    pass"
   ]
  }
 ],
 "metadata": {
  "kernelspec": {
   "display_name": "Python 3",
   "language": "python",
   "name": "python3"
  },
  "language_info": {
   "codemirror_mode": {
    "name": "ipython",
    "version": 3
   },
   "file_extension": ".py",
   "mimetype": "text/x-python",
   "name": "python",
   "nbconvert_exporter": "python",
   "pygments_lexer": "ipython3",
   "version": "3.10.9"
  },
  "orig_nbformat": 4,
  "vscode": {
   "interpreter": {
    "hash": "6eae86e4343510915c9fa3d29886f8c45b196ed8e650df451e40e3b712cdf1c0"
   }
  }
 },
 "nbformat": 4,
 "nbformat_minor": 2
}
