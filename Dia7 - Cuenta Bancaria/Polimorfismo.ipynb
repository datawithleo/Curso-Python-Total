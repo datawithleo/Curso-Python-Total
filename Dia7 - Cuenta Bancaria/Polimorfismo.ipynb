{
 "cells": [
  {
   "cell_type": "code",
   "execution_count": 22,
   "metadata": {},
   "outputs": [],
   "source": [
    "class Vaca:\n",
    "    def __init__(self, nombre):\n",
    "        self.nombre = nombre\n",
    "    \n",
    "    def hablar(self):\n",
    "        print(self.nombre + \" dice muuu\")"
   ]
  },
  {
   "cell_type": "code",
   "execution_count": 23,
   "metadata": {},
   "outputs": [],
   "source": [
    "class Oveja:\n",
    "    def __init__(self, nombre):\n",
    "        self.nombre = nombre\n",
    "    \n",
    "    def hablar(self):\n",
    "        print(self.nombre + \" dice beee\")"
   ]
  },
  {
   "cell_type": "code",
   "execution_count": 24,
   "metadata": {},
   "outputs": [
    {
     "name": "stdout",
     "output_type": "stream",
     "text": [
      "Aurora dice muuu\n"
     ]
    }
   ],
   "source": [
    "vaca1 = Vaca('Aurora')\n",
    "vaca1.hablar()"
   ]
  },
  {
   "cell_type": "code",
   "execution_count": 25,
   "metadata": {},
   "outputs": [
    {
     "name": "stdout",
     "output_type": "stream",
     "text": [
      "Nube dice beee\n"
     ]
    }
   ],
   "source": [
    "oveja1 = Oveja('Nube')\n",
    "oveja1.hablar()"
   ]
  },
  {
   "cell_type": "code",
   "execution_count": 26,
   "metadata": {},
   "outputs": [
    {
     "name": "stdout",
     "output_type": "stream",
     "text": [
      "Aurora dice muuu\n",
      "Nube dice beee\n"
     ]
    }
   ],
   "source": [
    "animales = [vaca1, oveja1]\n",
    "for animal in animales:\n",
    "    animal.hablar()"
   ]
  },
  {
   "cell_type": "code",
   "execution_count": 27,
   "metadata": {},
   "outputs": [
    {
     "name": "stdout",
     "output_type": "stream",
     "text": [
      "Nube dice beee\n"
     ]
    }
   ],
   "source": [
    "def animal_hablar(animal):\n",
    "    animal.hablar()\n",
    "\n",
    "animal_hablar(oveja1)"
   ]
  }
 ],
 "metadata": {
  "kernelspec": {
   "display_name": "Python 3",
   "language": "python",
   "name": "python3"
  },
  "language_info": {
   "codemirror_mode": {
    "name": "ipython",
    "version": 3
   },
   "file_extension": ".py",
   "mimetype": "text/x-python",
   "name": "python",
   "nbconvert_exporter": "python",
   "pygments_lexer": "ipython3",
   "version": "3.10.9"
  },
  "orig_nbformat": 4,
  "vscode": {
   "interpreter": {
    "hash": "6eae86e4343510915c9fa3d29886f8c45b196ed8e650df451e40e3b712cdf1c0"
   }
  }
 },
 "nbformat": 4,
 "nbformat_minor": 2
}
