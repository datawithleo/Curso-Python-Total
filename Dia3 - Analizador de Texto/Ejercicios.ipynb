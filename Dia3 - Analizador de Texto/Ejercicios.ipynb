{
 "cells": [
  {
   "attachments": {},
   "cell_type": "markdown",
   "metadata": {},
   "source": [
    "Encuentra y muestra en pantalla qué caracter ocupa la quinta posición dentro de la siguiente palabra: \"ordenador\""
   ]
  },
  {
   "cell_type": "code",
   "execution_count": 2,
   "metadata": {},
   "outputs": [
    {
     "name": "stdout",
     "output_type": "stream",
     "text": [
      "n\n"
     ]
    }
   ],
   "source": [
    "palabra = \"ordenador\"\n",
    "print(palabra[4])"
   ]
  },
  {
   "attachments": {},
   "cell_type": "markdown",
   "metadata": {},
   "source": [
    "Encuentra y muestra en pantalla el índice de la primera aparición de la palabra \"práctica\" en la siguiente frase:\n",
    "\n",
    "\"En teoría, la teoría y la práctica son los mismos. En la práctica, no lo son.\""
   ]
  },
  {
   "cell_type": "code",
   "execution_count": 3,
   "metadata": {},
   "outputs": [
    {
     "name": "stdout",
     "output_type": "stream",
     "text": [
      "26\n"
     ]
    }
   ],
   "source": [
    "frase = \"En teoría, la teoría y la práctica son los mismos. En la práctica, no lo son.\"\n",
    "print(frase.index(\"práctica\"))"
   ]
  },
  {
   "attachments": {},
   "cell_type": "markdown",
   "metadata": {},
   "source": [
    "Encuentra y muestra en pantalla el índice de la última aparición de la palabra \"práctica\" en la siguiente frase:\n",
    "\n",
    "\"En teoría, la teoría y la práctica son los mismos. En la práctica, no lo son.\""
   ]
  },
  {
   "cell_type": "code",
   "execution_count": 4,
   "metadata": {},
   "outputs": [
    {
     "name": "stdout",
     "output_type": "stream",
     "text": [
      "57\n"
     ]
    }
   ],
   "source": [
    "frase = \"En teoría, la teoría y la práctica son los mismos. En la práctica, no lo son.\"\n",
    "print(frase.rindex(\"práctica\"))"
   ]
  },
  {
   "attachments": {},
   "cell_type": "markdown",
   "metadata": {},
   "source": [
    "Extrae la primera palabra de la siguiente frase utilizando slicing, y muéstrala en pantalla:\n",
    "\n",
    "\"Controlar la complejidad es la esencia de la programación\"\n",
    "\n",
    "Pista: \"Controlar\" tiene un largo de 9 caracteres."
   ]
  },
  {
   "cell_type": "code",
   "execution_count": 9,
   "metadata": {},
   "outputs": [
    {
     "name": "stdout",
     "output_type": "stream",
     "text": [
      "Controlar\n"
     ]
    }
   ],
   "source": [
    "frase = \"Controlar la complejidad es la esencia de la programación\"\n",
    "print(frase[:9])"
   ]
  },
  {
   "attachments": {},
   "cell_type": "markdown",
   "metadata": {},
   "source": [
    "Toma cada tercer caracter empezando desde el noveno hasta el final de la frase, e imprime el resultado.\n",
    "\n",
    "\"Nunca confíes en un ordenador que no puedas lanzar por una ventana\""
   ]
  },
  {
   "cell_type": "code",
   "execution_count": 11,
   "metadata": {},
   "outputs": [
    {
     "name": "stdout",
     "output_type": "stream",
     "text": [
      "neeuoed eoualz rnvta\n"
     ]
    }
   ],
   "source": [
    "frase = \"Nunca confíes en un ordenador que no puedas lanzar por una ventana\"\n",
    "print(frase[8::3])"
   ]
  },
  {
   "attachments": {},
   "cell_type": "markdown",
   "metadata": {},
   "source": [
    "Invierte la posición de todos los caracteres de la siguiente frase y muestra el resultado en pantalla.\n",
    "\n",
    "\"Es genial trabajar con ordenadores. No discuten, lo recuerdan todo y no se beben tu cerveza\""
   ]
  },
  {
   "cell_type": "code",
   "execution_count": 12,
   "metadata": {},
   "outputs": [
    {
     "name": "stdout",
     "output_type": "stream",
     "text": [
      "azevrec ut nebeb es on y odot nadreucer ol ,netucsid oN .serodanedro noc rajabart laineg sE\n"
     ]
    }
   ],
   "source": [
    "frase = \"Es genial trabajar con ordenadores. No discuten, lo recuerdan todo y no se beben tu cerveza\"\n",
    "print(frase[::-1])"
   ]
  }
 ],
 "metadata": {
  "kernelspec": {
   "display_name": "Python 3",
   "language": "python",
   "name": "python3"
  },
  "language_info": {
   "codemirror_mode": {
    "name": "ipython",
    "version": 3
   },
   "file_extension": ".py",
   "mimetype": "text/x-python",
   "name": "python",
   "nbconvert_exporter": "python",
   "pygments_lexer": "ipython3",
   "version": "3.10.9 (tags/v3.10.9:1dd9be6, Dec  6 2022, 20:01:21) [MSC v.1934 64 bit (AMD64)]"
  },
  "orig_nbformat": 4,
  "vscode": {
   "interpreter": {
    "hash": "6eae86e4343510915c9fa3d29886f8c45b196ed8e650df451e40e3b712cdf1c0"
   }
  }
 },
 "nbformat": 4,
 "nbformat_minor": 2
}
