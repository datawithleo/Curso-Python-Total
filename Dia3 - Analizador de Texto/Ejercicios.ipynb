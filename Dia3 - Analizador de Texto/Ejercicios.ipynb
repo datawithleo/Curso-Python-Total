{
 "cells": [],
 "metadata": {
  "kernelspec": {
   "display_name": "Python 3",
   "language": "python",
   "name": "python3"
  },
  "language_info": {
   "name": "python",
   "version": "3.10.9 (tags/v3.10.9:1dd9be6, Dec  6 2022, 20:01:21) [MSC v.1934 64 bit (AMD64)]"
  },
  "orig_nbformat": 4,
  "vscode": {
   "interpreter": {
    "hash": "6eae86e4343510915c9fa3d29886f8c45b196ed8e650df451e40e3b712cdf1c0"
   }
  }
 },
 "nbformat": 4,
 "nbformat_minor": 2
}
