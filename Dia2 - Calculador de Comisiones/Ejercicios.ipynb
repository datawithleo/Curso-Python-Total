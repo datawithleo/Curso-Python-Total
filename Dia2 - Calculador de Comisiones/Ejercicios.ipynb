{
 "cells": [
  {
   "attachments": {},
   "cell_type": "markdown",
   "metadata": {},
   "source": [
    "1. Declara dos variables, llamadas nombre y edad.\n",
    "Asigna a la variable nombre el valor \"Tony Soprano\", y a la edad, el valor 51."
   ]
  },
  {
   "cell_type": "code",
   "execution_count": 1,
   "metadata": {},
   "outputs": [],
   "source": [
    "nombre = \"Tony Soprano\"\n",
    "edad = 51"
   ]
  },
  {
   "attachments": {},
   "cell_type": "markdown",
   "metadata": {},
   "source": [
    "2. Crea tres variables:\n",
    "\n",
    "nombre\n",
    "\n",
    "apellido\n",
    "\n",
    "nombrecompleto\n",
    "\n",
    "A nombre, asígnale el valor \"Julia\", y en apellido, asigna el valor \"Roberts\". Finalmente, construye la variable nombrecompleto concatenando las variables (recuerda sumar un espacio intermedio)."
   ]
  },
  {
   "cell_type": "code",
   "execution_count": 3,
   "metadata": {},
   "outputs": [
    {
     "name": "stdout",
     "output_type": "stream",
     "text": [
      "Julia Roberts\n"
     ]
    }
   ],
   "source": [
    "nombre = \"Julia\"\n",
    "apellido= \"Roberts\"\n",
    "nombrecompleto = nombre + \" \" + apellido"
   ]
  },
  {
   "attachments": {},
   "cell_type": "markdown",
   "metadata": {},
   "source": [
    "3. Declara la variable curso, asígnale el valor \"Python\", y muestra en pantalla la frase:\n",
    "\n",
    "Estás tomando un curso de curso\n",
    "\n",
    "Para ello deberás concatenar la primera parte de la frase con el valor que asumirá la variable. Recuerda agregar un espacio antes de concatenar la variable al resto del texto."
   ]
  },
  {
   "cell_type": "code",
   "execution_count": 4,
   "metadata": {},
   "outputs": [
    {
     "name": "stdout",
     "output_type": "stream",
     "text": [
      "Estás tomando un curso de Python\n"
     ]
    }
   ],
   "source": [
    "curso = \"Python\"\n",
    "print(\"Estás tomando un curso de \" + curso)"
   ]
  },
  {
   "attachments": {},
   "cell_type": "markdown",
   "metadata": {},
   "source": [
    "4. Declara una variable numérica llamada num_entero que contenga un valor de tipo integer de tu elección.\n",
    "\n",
    "Imprime el tipo de dato de dicha variable."
   ]
  },
  {
   "cell_type": "code",
   "execution_count": 6,
   "metadata": {},
   "outputs": [
    {
     "name": "stdout",
     "output_type": "stream",
     "text": [
      "<class 'int'>\n"
     ]
    }
   ],
   "source": [
    "num_entero = 5\n",
    "print(type(num_entero))"
   ]
  },
  {
   "attachments": {},
   "cell_type": "markdown",
   "metadata": {},
   "source": [
    "5. Declara una variable numérica llamada num_decimal que contenga un valor de tipo float de tu elección.\n",
    "\n",
    "Imprime el tipo de dato de dicha variable."
   ]
  },
  {
   "cell_type": "code",
   "execution_count": 7,
   "metadata": {},
   "outputs": [
    {
     "name": "stdout",
     "output_type": "stream",
     "text": [
      "<class 'float'>\n"
     ]
    }
   ],
   "source": [
    "num_decimal = 2.3\n",
    "print(type(num_decimal))"
   ]
  },
  {
   "attachments": {},
   "cell_type": "markdown",
   "metadata": {},
   "source": [
    "6. ¿De qué tipo es el resultado de la suma de 7.5 + 2.5? Genera el código para verificarlo.\n",
    "\n",
    "Para ello, crea dos variables:\n",
    "\n",
    "num1 = 7.5\n",
    "\n",
    "num2 = 2.5\n",
    "\n",
    "A continuación, muestra en pantalla el tipo de dato que resulta de la suma de ambos números."
   ]
  },
  {
   "cell_type": "code",
   "execution_count": 8,
   "metadata": {},
   "outputs": [
    {
     "name": "stdout",
     "output_type": "stream",
     "text": [
      "<class 'float'>\n"
     ]
    }
   ],
   "source": [
    "num1 = 7.5\n",
    "num2 = 2.5\n",
    "suma = num1 + num2\n",
    "print(type(suma))"
   ]
  },
  {
   "attachments": {},
   "cell_type": "markdown",
   "metadata": {},
   "source": [
    "7. Convierte el valor de num1 en un int e imprime el tipo de dato que resulta:\n",
    "num1 = 7.5"
   ]
  },
  {
   "cell_type": "code",
   "execution_count": 9,
   "metadata": {},
   "outputs": [
    {
     "name": "stdout",
     "output_type": "stream",
     "text": [
      "<class 'int'>\n"
     ]
    }
   ],
   "source": [
    "num1 = 7.5\n",
    "num2 = int(num1)\n",
    "print(type(num2))"
   ]
  },
  {
   "attachments": {},
   "cell_type": "markdown",
   "metadata": {},
   "source": [
    "8. Convierte el valor de num2 en un float e imprime el tipo de dato que resulta: num2 = 10"
   ]
  },
  {
   "cell_type": "code",
   "execution_count": 10,
   "metadata": {},
   "outputs": [
    {
     "name": "stdout",
     "output_type": "stream",
     "text": [
      "<class 'float'>\n"
     ]
    }
   ],
   "source": [
    "num2 = 10\n",
    "num3 = float(num2)\n",
    "print(type(num3))"
   ]
  },
  {
   "attachments": {},
   "cell_type": "markdown",
   "metadata": {},
   "source": [
    "9. Suma los valores de num1 y num2.\n",
    "\n",
    "No modifiques el valor de las variables ya declaradas, sino aplica las conversiones necesarias dentro de la función print().\n",
    "\n",
    "num1 = \"7.5\"\n",
    "num2 = \"10\"\n",
    "\n",
    "print(num1 + num2)"
   ]
  },
  {
   "cell_type": "code",
   "execution_count": 13,
   "metadata": {},
   "outputs": [
    {
     "name": "stdout",
     "output_type": "stream",
     "text": [
      "17.5\n"
     ]
    }
   ],
   "source": [
    "num1 = \"7.5\"\n",
    "num2 = \"10\"\n",
    "\n",
    "print(float(num1) + int(num2))"
   ]
  },
  {
   "attachments": {},
   "cell_type": "markdown",
   "metadata": {},
   "source": [
    "10. Necesitamos imprimir el nombre y número de asociado dentro de la siguiente frase:\n",
    "\n",
    "Estimado/a (nombre_asociado), su número de asociado es: (numero_asociado)\n",
    "\n",
    "nombre_asociado = \"Jesse Pinkman\"\n",
    "\n",
    "numero_asociado = 399058"
   ]
  },
  {
   "cell_type": "code",
   "execution_count": 15,
   "metadata": {},
   "outputs": [
    {
     "name": "stdout",
     "output_type": "stream",
     "text": [
      "Estimado/a Jesse Pinkman, su número de asociado es: 399058\n"
     ]
    }
   ],
   "source": [
    "nombre_asociado = \"Jesse Pinkman\"\n",
    "numero_asociado = 399058\n",
    "print(f\"Estimado/a {nombre_asociado}, su número de asociado es: {numero_asociado}\")"
   ]
  },
  {
   "attachments": {},
   "cell_type": "markdown",
   "metadata": {},
   "source": [
    "11. Muestra al usuario la cantidad de puntos acumulados dentro de la siguiente frase:\n",
    "\n",
    "Has ganado (puntos_nuevos) puntos! En total, acumulas (puntos_totales) puntos\n",
    "\n",
    "puntos_nuevos = 350\n",
    "\n",
    "puntos_totales = 1225"
   ]
  },
  {
   "cell_type": "code",
   "execution_count": 16,
   "metadata": {},
   "outputs": [
    {
     "name": "stdout",
     "output_type": "stream",
     "text": [
      "Has ganado 350 puntos! En total, acumulas 1225 puntos\n"
     ]
    }
   ],
   "source": [
    "puntos_nuevos = 350\n",
    "puntos_totales = 1225\n",
    "print(f\"Has ganado {puntos_nuevos} puntos! En total, acumulas {puntos_totales} puntos\")"
   ]
  },
  {
   "attachments": {},
   "cell_type": "markdown",
   "metadata": {},
   "source": [
    "12. Muestra al usuario la cantidad de puntos acumulados dentro de la siguiente frase:\n",
    "\n",
    "Has ganado (puntos_nuevos) puntos! En total, acumulas (puntos_totales) puntos\n",
    "\n",
    "En esta ocasión, la cantidad de puntos acumulados (totales) será igual a los puntos_anteriores más los puntos_nuevos.\n",
    "\n",
    "puntos_anteriores = 875\n",
    "\n",
    "puntos_nuevos = 350"
   ]
  },
  {
   "cell_type": "code",
   "execution_count": 22,
   "metadata": {},
   "outputs": [
    {
     "name": "stdout",
     "output_type": "stream",
     "text": [
      "Has ganado 350 puntos! En total, acumulas 1225 puntos\n"
     ]
    }
   ],
   "source": [
    "puntos_anteriores = 875\n",
    "puntos_nuevos = 350\n",
    "print(f\"Has ganado {puntos_nuevos} puntos! En total, acumulas {puntos_anteriores+puntos_nuevos} puntos\")"
   ]
  },
  {
   "attachments": {},
   "cell_type": "markdown",
   "metadata": {},
   "source": [
    "13. Muestra en pantalla el cociente (división al piso) de los siguientes dos números: 874 dividido entre 27.\n",
    "\n",
    "Debes mostrar solo el valor numérico que resulta de esta operación."
   ]
  },
  {
   "cell_type": "code",
   "execution_count": 24,
   "metadata": {},
   "outputs": [
    {
     "name": "stdout",
     "output_type": "stream",
     "text": [
      "32\n"
     ]
    }
   ],
   "source": [
    "numero1 = 874\n",
    "numero2 = 27\n",
    "print(numero1 // numero2)"
   ]
  },
  {
   "attachments": {},
   "cell_type": "markdown",
   "metadata": {},
   "source": [
    "14. Muestra en pantalla el módulo (es decir, el resto) de la división entre 456 y 33.\n",
    "\n",
    "Debes mostrar solo el valor numérico que resulta de esta operación."
   ]
  },
  {
   "cell_type": "code",
   "execution_count": 25,
   "metadata": {},
   "outputs": [
    {
     "name": "stdout",
     "output_type": "stream",
     "text": [
      "27\n"
     ]
    }
   ],
   "source": [
    "numero3 = 456\n",
    "numero4 = 33\n",
    "print(numero3 % numero4)"
   ]
  },
  {
   "attachments": {},
   "cell_type": "markdown",
   "metadata": {},
   "source": [
    "15. Calcula y muestra en pantalla la raíz cuadrada de 783.\n",
    "\n",
    "Debes mostrar solo el valor numérico que resulta de esta operación."
   ]
  },
  {
   "cell_type": "code",
   "execution_count": 26,
   "metadata": {},
   "outputs": [
    {
     "name": "stdout",
     "output_type": "stream",
     "text": [
      "27.982137159266443\n"
     ]
    }
   ],
   "source": [
    "numero6 = 783\n",
    "print(numero6 ** 0.5)"
   ]
  },
  {
   "attachments": {},
   "cell_type": "markdown",
   "metadata": {},
   "source": [
    "16. Redondea el resultado de la división 10/3 a un número con 2 decimales, y muestra en pantalla el valor redondeado."
   ]
  },
  {
   "cell_type": "code",
   "execution_count": 29,
   "metadata": {},
   "outputs": [
    {
     "name": "stdout",
     "output_type": "stream",
     "text": [
      "3.33\n"
     ]
    }
   ],
   "source": [
    "print(round(10/3,2))"
   ]
  },
  {
   "attachments": {},
   "cell_type": "markdown",
   "metadata": {},
   "source": [
    "17. Redondea el número 10.676767 al entero más próximo, y muestra en pantalla el resultado.\n",
    "\n",
    "valor = 10.676767"
   ]
  },
  {
   "cell_type": "code",
   "execution_count": 30,
   "metadata": {},
   "outputs": [
    {
     "name": "stdout",
     "output_type": "stream",
     "text": [
      "11\n"
     ]
    }
   ],
   "source": [
    "valor = 10.676767\n",
    "print(round(valor))"
   ]
  },
  {
   "attachments": {},
   "cell_type": "markdown",
   "metadata": {},
   "source": [
    "18. Calcula la raíz cuadrada de 5, y muestra en pantalla el resultado redondeado con 4 posiciones decimales."
   ]
  },
  {
   "cell_type": "code",
   "execution_count": 33,
   "metadata": {},
   "outputs": [
    {
     "name": "stdout",
     "output_type": "stream",
     "text": [
      "2.2361\n"
     ]
    }
   ],
   "source": [
    "print(round(5**0.5,4))"
   ]
  }
 ],
 "metadata": {
  "kernelspec": {
   "display_name": "Python 3",
   "language": "python",
   "name": "python3"
  },
  "language_info": {
   "codemirror_mode": {
    "name": "ipython",
    "version": 3
   },
   "file_extension": ".py",
   "mimetype": "text/x-python",
   "name": "python",
   "nbconvert_exporter": "python",
   "pygments_lexer": "ipython3",
   "version": "3.10.9"
  },
  "orig_nbformat": 4,
  "vscode": {
   "interpreter": {
    "hash": "6eae86e4343510915c9fa3d29886f8c45b196ed8e650df451e40e3b712cdf1c0"
   }
  }
 },
 "nbformat": 4,
 "nbformat_minor": 2
}
