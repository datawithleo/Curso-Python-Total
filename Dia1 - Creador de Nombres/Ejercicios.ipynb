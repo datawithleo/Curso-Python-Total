{
 "cells": [
  {
   "attachments": {},
   "cell_type": "markdown",
   "metadata": {},
   "source": [
    "Crea un código que imprima en pantalla la expresión Me encanta estudiar Python."
   ]
  },
  {
   "cell_type": "code",
   "execution_count": 1,
   "metadata": {},
   "outputs": [
    {
     "name": "stdout",
     "output_type": "stream",
     "text": [
      "Me encanta estudiar Python\n"
     ]
    }
   ],
   "source": [
    "print(\"Me encanta estudiar Python\")"
   ]
  },
  {
   "attachments": {},
   "cell_type": "markdown",
   "metadata": {},
   "source": [
    "Crea un código que imprima en pantalla la expresión Estudiar con \"Python Total\" es super divertido"
   ]
  },
  {
   "cell_type": "code",
   "execution_count": 2,
   "metadata": {},
   "outputs": [
    {
     "name": "stdout",
     "output_type": "stream",
     "text": [
      "Estudiar con \"Python Total\" es super divertido\n"
     ]
    }
   ],
   "source": [
    "print('Estudiar con \"Python Total\" es super divertido')"
   ]
  },
  {
   "attachments": {},
   "cell_type": "markdown",
   "metadata": {},
   "source": [
    "Crea un código que imprima en pantalla el número 555, pero no debes imprimirlo directamente, sino como resultado de una operación matemática"
   ]
  },
  {
   "cell_type": "code",
   "execution_count": 3,
   "metadata": {},
   "outputs": [
    {
     "name": "stdout",
     "output_type": "stream",
     "text": [
      "555\n"
     ]
    }
   ],
   "source": [
    "print(500+55)"
   ]
  },
  {
   "attachments": {},
   "cell_type": "markdown",
   "metadata": {},
   "source": [
    "Crea un código que imprima en pantalla la siguiente expresión (pero usando print una sola vez):\n",
    "\n",
    "Línea 1\n",
    "\n",
    "Línea 2\n",
    "\n",
    "Línea 3"
   ]
  },
  {
   "cell_type": "code",
   "execution_count": 4,
   "metadata": {},
   "outputs": [
    {
     "name": "stdout",
     "output_type": "stream",
     "text": [
      "Línea 1\n",
      "Línea 2\n",
      "Línea 3\n"
     ]
    }
   ],
   "source": [
    "print(\"Línea 1\\nLínea 2\\nLínea 3\")"
   ]
  },
  {
   "attachments": {},
   "cell_type": "markdown",
   "metadata": {},
   "source": [
    "Crea un código que imprima en pantalla la siguiente expresión.\n",
    "\n",
    "A    B    C\n",
    "\n",
    "D    E    F\n",
    "\n",
    "G    H    I\n",
    "\n",
    "Notas:\n",
    "\n",
    "- Observa que la distancia horizontal entre los números ha sido creada con UNA tabulación.\n",
    "- Puedes usar una o más declaraciones print"
   ]
  },
  {
   "cell_type": "code",
   "execution_count": 5,
   "metadata": {},
   "outputs": [
    {
     "name": "stdout",
     "output_type": "stream",
     "text": [
      "A\tB\tC\n",
      "D\tE\tF\n",
      "G\tH\tI\n"
     ]
    }
   ],
   "source": [
    "print(\"A\\tB\\tC\\nD\\tE\\tF\\nG\\tH\\tI\")"
   ]
  },
  {
   "attachments": {},
   "cell_type": "markdown",
   "metadata": {},
   "source": [
    "Crea un código que imprima en pantalla la siguiente expresión:\n",
    "\n",
    "Barra Normal: /\n",
    "\n",
    "Barra Invertida: \\"
   ]
  },
  {
   "cell_type": "code",
   "execution_count": 6,
   "metadata": {},
   "outputs": [
    {
     "name": "stdout",
     "output_type": "stream",
     "text": [
      "Barra Normal: /\n",
      "Barra Invertida: \\\n"
     ]
    }
   ],
   "source": [
    "print(\"Barra Normal: /\\nBarra Invertida: \\\\\")"
   ]
  },
  {
   "attachments": {},
   "cell_type": "markdown",
   "metadata": {},
   "source": [
    "Crea un código que le permita ingresar una respuesta al usuario, haciéndole la siguiente pregunta:\n",
    "\n",
    "¿Qué estás estudiando?\n",
    "\n",
    "El código debe poder imprimir en pantalla lo ingresado por el usuario (utilizando print)."
   ]
  },
  {
   "cell_type": "code",
   "execution_count": 7,
   "metadata": {},
   "outputs": [
    {
     "name": "stdout",
     "output_type": "stream",
     "text": [
      "Python\n"
     ]
    }
   ],
   "source": [
    "print(input(\"¿Qué estás estudiando? \"))"
   ]
  },
  {
   "attachments": {},
   "cell_type": "markdown",
   "metadata": {},
   "source": [
    "Crea un código que le permita ingresar una respuesta al usuario, haciéndole la siguiente pregunta:\n",
    "\n",
    "¿En qué país vives?\n",
    "\n",
    "El código debe poder imprimir en pantalla lo ingresado por el usuario (utilizando print).\n",
    "\n",
    "Aclaración: no deben imprimirse strings adicionales a la respuesta del usuario."
   ]
  },
  {
   "cell_type": "code",
   "execution_count": 8,
   "metadata": {},
   "outputs": [
    {
     "name": "stdout",
     "output_type": "stream",
     "text": [
      "Chile\n"
     ]
    }
   ],
   "source": [
    "print(input(\"¿En qué país vives?\"))"
   ]
  },
  {
   "attachments": {},
   "cell_type": "markdown",
   "metadata": {},
   "source": [
    "Crea un código que muestre en pantalla el nombre completo del usuario, permitiéndole ingresar su nombre y apellido con las siguientes instrucciones:\n",
    "\n",
    "Escribe tu nombre:\n",
    "Escribe tu apellido:\n",
    "El código debe poder imprimir en pantalla el nombre y apellido del usuario, separados por un espacio."
   ]
  },
  {
   "cell_type": "code",
   "execution_count": 9,
   "metadata": {},
   "outputs": [
    {
     "name": "stdout",
     "output_type": "stream",
     "text": [
      "Leonardo Fuentes\n"
     ]
    }
   ],
   "source": [
    "print(input(\"Escribe tu nombre:\") + \" \" + input(\"Escribe tu apellido:\"))"
   ]
  }
 ],
 "metadata": {
  "kernelspec": {
   "display_name": "Python 3",
   "language": "python",
   "name": "python3"
  },
  "language_info": {
   "codemirror_mode": {
    "name": "ipython",
    "version": 3
   },
   "file_extension": ".py",
   "mimetype": "text/x-python",
   "name": "python",
   "nbconvert_exporter": "python",
   "pygments_lexer": "ipython3",
   "version": "3.10.9"
  },
  "orig_nbformat": 4,
  "vscode": {
   "interpreter": {
    "hash": "6eae86e4343510915c9fa3d29886f8c45b196ed8e650df451e40e3b712cdf1c0"
   }
  }
 },
 "nbformat": 4,
 "nbformat_minor": 2
}
